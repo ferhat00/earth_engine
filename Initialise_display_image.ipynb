{
 "cells": [
  {
   "cell_type": "code",
   "execution_count": 1,
   "metadata": {},
   "outputs": [],
   "source": [
    "import ee\n",
    "import ee.mapclient\n",
    "from IPython.display import Image,display"
   ]
  },
  {
   "cell_type": "code",
   "execution_count": 2,
   "metadata": {},
   "outputs": [],
   "source": [
    "# Initialize the Earth Engine object, using the authentication credentials.\n",
    "ee.Initialize()"
   ]
  },
  {
   "cell_type": "code",
   "execution_count": 3,
   "metadata": {},
   "outputs": [
    {
     "name": "stdout",
     "output_type": "stream",
     "text": [
      "{'type': 'Image', 'bands': [{'id': 'elevation', 'data_type': {'type': 'PixelType', 'precision': 'int', 'min': -32768, 'max': 32767}, 'dimensions': [432000, 144000], 'crs': 'EPSG:4326', 'crs_transform': [0.000833333333333, 0.0, -180.0, 0.0, -0.000833333333333, 60.0]}], 'version': 1494271934303000, 'id': 'srtm90_v4', 'properties': {'system:time_start': 950227200000, 'system:time_end': 951177600000, 'system:asset_size': 18827626666}}\n"
     ]
    }
   ],
   "source": [
    "# Print the information for an image asset.\n",
    "image = ee.Image('srtm90_v4')\n",
    "print(image.getInfo())"
   ]
  },
  {
   "cell_type": "code",
   "execution_count": 4,
   "metadata": {},
   "outputs": [
    {
     "data": {
      "text/html": [
       "<img src=\"https://earthengine.googleapis.com/api/thumb?thumbid=59546e46a06a3fc8813bf9166922a40c&token=0eabefb086d00bd058110b3ec8a23555\"/>"
      ],
      "text/plain": [
       "<IPython.core.display.Image object>"
      ]
     },
     "execution_count": 4,
     "metadata": {},
     "output_type": "execute_result"
    }
   ],
   "source": [
    "url = image.getThumbURL({'min':0,'max':3000})\n",
    "Image(url=url)"
   ]
  },
  {
   "cell_type": "code",
   "execution_count": 22,
   "metadata": {},
   "outputs": [
    {
     "name": "stderr",
     "output_type": "stream",
     "text": [
      "IOPub data rate exceeded.\n",
      "The notebook server will temporarily stop sending output\n",
      "to the client in order to avoid crashing it.\n",
      "To change this limit, set the config variable\n",
      "`--NotebookApp.iopub_data_rate_limit`.\n",
      "\n",
      "Current values:\n",
      "NotebookApp.iopub_data_rate_limit=1000000.0 (bytes/sec)\n",
      "NotebookApp.rate_limit_window=3.0 (secs)\n",
      "\n"
     ]
    }
   ],
   "source": [
    "skysat = ee.ImageCollection('SKYSAT/GEN-A/PUBLIC/ORTHO/RGB')\n",
    "print(skysat.getInfo())"
   ]
  },
  {
   "cell_type": "code",
   "execution_count": 39,
   "metadata": {},
   "outputs": [
    {
     "name": "stdout",
     "output_type": "stream",
     "text": [
      "ee.Number({\n",
      "  \"type\": \"Invocation\",\n",
      "  \"arguments\": {\n",
      "    \"collection\": {\n",
      "      \"type\": \"Invocation\",\n",
      "      \"arguments\": {\n",
      "        \"id\": \"SKYSAT/GEN-A/PUBLIC/ORTHO/RGB\"\n",
      "      },\n",
      "      \"functionName\": \"ImageCollection.load\"\n",
      "    }\n",
      "  },\n",
      "  \"functionName\": \"Collection.size\"\n",
      "})\n"
     ]
    }
   ],
   "source": [
    "count = skysat.size()\n",
    "print(count)"
   ]
  },
  {
   "cell_type": "code",
   "execution_count": 41,
   "metadata": {},
   "outputs": [
    {
     "name": "stdout",
     "output_type": "stream",
     "text": [
      "Date range:  ee.Date({\n",
      "  \"type\": \"Invocation\",\n",
      "  \"arguments\": {\n",
      "    \"value\": {\n",
      "      \"type\": \"Invocation\",\n",
      "      \"arguments\": {\n",
      "        \"dictionary\": {\n",
      "          \"type\": \"Invocation\",\n",
      "          \"arguments\": {\n",
      "            \"collection\": {\n",
      "              \"type\": \"Invocation\",\n",
      "              \"arguments\": {\n",
      "                \"id\": \"SKYSAT/GEN-A/PUBLIC/ORTHO/RGB\"\n",
      "              },\n",
      "              \"functionName\": \"ImageCollection.load\"\n",
      "            },\n",
      "            \"reducer\": {\n",
      "              \"type\": \"Invocation\",\n",
      "              \"arguments\": {},\n",
      "              \"functionName\": \"Reducer.minMax\"\n",
      "            },\n",
      "            \"selectors\": [\n",
      "              \"system:time_start\"\n",
      "            ]\n",
      "          },\n",
      "          \"functionName\": \"Collection.reduceColumns\"\n",
      "        },\n",
      "        \"key\": \"min\"\n",
      "      },\n",
      "      \"functionName\": \"Dictionary.get\"\n",
      "    }\n",
      "  },\n",
      "  \"functionName\": \"Date\"\n",
      "}) ee.Date({\n",
      "  \"type\": \"Invocation\",\n",
      "  \"arguments\": {\n",
      "    \"value\": {\n",
      "      \"type\": \"Invocation\",\n",
      "      \"arguments\": {\n",
      "        \"dictionary\": {\n",
      "          \"type\": \"Invocation\",\n",
      "          \"arguments\": {\n",
      "            \"collection\": {\n",
      "              \"type\": \"Invocation\",\n",
      "              \"arguments\": {\n",
      "                \"id\": \"SKYSAT/GEN-A/PUBLIC/ORTHO/RGB\"\n",
      "              },\n",
      "              \"functionName\": \"ImageCollection.load\"\n",
      "            },\n",
      "            \"reducer\": {\n",
      "              \"type\": \"Invocation\",\n",
      "              \"arguments\": {},\n",
      "              \"functionName\": \"Reducer.minMax\"\n",
      "            },\n",
      "            \"selectors\": [\n",
      "              \"system:time_start\"\n",
      "            ]\n",
      "          },\n",
      "          \"functionName\": \"Collection.reduceColumns\"\n",
      "        },\n",
      "        \"key\": \"max\"\n",
      "      },\n",
      "      \"functionName\": \"Dictionary.get\"\n",
      "    }\n",
      "  },\n",
      "  \"functionName\": \"Date\"\n",
      "})\n"
     ]
    }
   ],
   "source": [
    "date_range = skysat.reduceColumns(ee.Reducer.minMax(), [\"system:time_start\"])\n",
    "print('Date range: ', ee.Date(date_range.get('min')), ee.Date(date_range.get('max')))"
   ]
  },
  {
   "cell_type": "code",
   "execution_count": 42,
   "metadata": {},
   "outputs": [
    {
     "ename": "IndentationError",
     "evalue": "unexpected indent (<ipython-input-42-b9b413af4e9d>, line 2)",
     "output_type": "error",
     "traceback": [
      "\u001b[1;36m  File \u001b[1;32m\"<ipython-input-42-b9b413af4e9d>\"\u001b[1;36m, line \u001b[1;32m2\u001b[0m\n\u001b[1;33m    .filterDate('1987-01-01', '1990-05-01')\u001b[0m\n\u001b[1;37m    ^\u001b[0m\n\u001b[1;31mIndentationError\u001b[0m\u001b[1;31m:\u001b[0m unexpected indent\n"
     ]
    }
   ],
   "source": [
    "collection = ee.ImageCollection('LANDSAT/LT05/C01/T2')\n",
    "  .filterDate('1987-01-01', '1990-05-01')\n",
    "  .filterBounds(ee.Geometry.Point(25.8544, -18.08874));"
   ]
  },
  {
   "cell_type": "code",
   "execution_count": 26,
   "metadata": {},
   "outputs": [],
   "source": [
    "point = ee.Geometry.Point(-70.905, 41.629) #-70.90519104980672,41.629932792735]"
   ]
  },
  {
   "cell_type": "code",
   "execution_count": 29,
   "metadata": {},
   "outputs": [],
   "source": [
    "point_bounds = point.buffer(500000).bounds().getInfo()['coordinates']"
   ]
  },
  {
   "cell_type": "code",
   "execution_count": 30,
   "metadata": {},
   "outputs": [
    {
     "data": {
      "text/plain": [
       "[[[-76.90748735297683, 37.13118644518354],\n",
       "  [-64.88317775799395, 37.13118644518354],\n",
       "  [-64.88317775799395, 46.12843297574075],\n",
       "  [-76.90748735297683, 46.12843297574075],\n",
       "  [-76.90748735297683, 37.13118644518354]]]"
      ]
     },
     "execution_count": 30,
     "metadata": {},
     "output_type": "execute_result"
    }
   ],
   "source": [
    "point_bounds"
   ]
  },
  {
   "cell_type": "code",
   "execution_count": 32,
   "metadata": {},
   "outputs": [],
   "source": [
    "# Reduce image collection to mean\n",
    "skysat_min = skysat.mean()"
   ]
  },
  {
   "cell_type": "code",
   "execution_count": 36,
   "metadata": {},
   "outputs": [
    {
     "data": {
      "text/html": [
       "<img src=\"https://earthengine.googleapis.com/api/thumb?thumbid=a35b07f3d05fd71c10b54a34d8689d1f&token=643ae883784d8e3bec924f2c569feeb1\"/>"
      ],
      "text/plain": [
       "<IPython.core.display.Image object>"
      ]
     },
     "execution_count": 36,
     "metadata": {},
     "output_type": "execute_result"
    }
   ],
   "source": [
    "# Calculate and plot NDVI \n",
    "# Note: Not using NDVI band, NDVI will be calculated from NIR and RED band\n",
    "ndvi = skysat_min.normalizedDifference([\"G\", \"R\"])\n",
    "Image(url=ndvi.getThumbUrl({\n",
    "    'region':point_bounds,\n",
    "    'min':0,\n",
    "    'max':2550\n",
    "}))"
   ]
  },
  {
   "cell_type": "code",
   "execution_count": null,
   "metadata": {},
   "outputs": [],
   "source": []
  }
 ],
 "metadata": {
  "kernelspec": {
   "display_name": "Python 3",
   "language": "python",
   "name": "python3"
  },
  "language_info": {
   "codemirror_mode": {
    "name": "ipython",
    "version": 3
   },
   "file_extension": ".py",
   "mimetype": "text/x-python",
   "name": "python",
   "nbconvert_exporter": "python",
   "pygments_lexer": "ipython3",
   "version": "3.6.5"
  }
 },
 "nbformat": 4,
 "nbformat_minor": 2
}
